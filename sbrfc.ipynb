{
 "cells": [
  {
   "cell_type": "markdown",
   "metadata": {},
   "source": [
    "# Using data from first project which used linear regression and using random forest classifier model to compare recommendations for new zip codes for Starbucks locations"
   ]
  },
  {
   "cell_type": "code",
   "execution_count": 1,
   "metadata": {},
   "outputs": [],
   "source": [
    "from sklearn import tree\n",
    "import pickle\n",
    "import numpy as np\n",
    "from pyzipcode import ZipCodeDatabase\n",
    "import zipfile\n",
    "import gmaps\n",
    "import gmaps.datasets\n",
    "import os\n",
    "import pandas as pd\n",
    "import requests\n",
    "import json\n",
    "from census import Census\n",
    "import matplotlib.pyplot as plt\n",
    "import requests\n",
    "import json\n",
    "from pygeocoder import Geocoder, GeocoderError\n",
    "import scipy.stats as stats\n",
    "\n",
    "# Census API Key\n",
    "from config import census_key, gkey\n",
    "c = Census(census_key, year=2013)\n",
    "gmaps.configure(api_key=gkey)\n",
    "\n",
    "#url for google geocode api\n",
    "basegeo_url = \"https://maps.googleapis.com/maps/api/geocode/json\""
   ]
  },
  {
   "cell_type": "code",
   "execution_count": 2,
   "metadata": {},
   "outputs": [
    {
     "data": {
      "text/html": [
       "<div>\n",
       "<style scoped>\n",
       "    .dataframe tbody tr th:only-of-type {\n",
       "        vertical-align: middle;\n",
       "    }\n",
       "\n",
       "    .dataframe tbody tr th {\n",
       "        vertical-align: top;\n",
       "    }\n",
       "\n",
       "    .dataframe thead th {\n",
       "        text-align: right;\n",
       "    }\n",
       "</style>\n",
       "<table border=\"1\" class=\"dataframe\">\n",
       "  <thead>\n",
       "    <tr style=\"text-align: right;\">\n",
       "      <th></th>\n",
       "      <th>Zipcode</th>\n",
       "      <th>Median Age</th>\n",
       "      <th>Household Income</th>\n",
       "      <th>Per Capita Income</th>\n",
       "      <th>Employment rate</th>\n",
       "      <th>Has Starbucks</th>\n",
       "    </tr>\n",
       "  </thead>\n",
       "  <tbody>\n",
       "    <tr>\n",
       "      <th>0</th>\n",
       "      <td>601</td>\n",
       "      <td>36.6</td>\n",
       "      <td>12041</td>\n",
       "      <td>7380</td>\n",
       "      <td>0.308835</td>\n",
       "      <td>N</td>\n",
       "    </tr>\n",
       "    <tr>\n",
       "      <th>1</th>\n",
       "      <td>602</td>\n",
       "      <td>38.6</td>\n",
       "      <td>15663</td>\n",
       "      <td>8463</td>\n",
       "      <td>0.381047</td>\n",
       "      <td>N</td>\n",
       "    </tr>\n",
       "    <tr>\n",
       "      <th>2</th>\n",
       "      <td>603</td>\n",
       "      <td>38.9</td>\n",
       "      <td>15485</td>\n",
       "      <td>9176</td>\n",
       "      <td>0.314867</td>\n",
       "      <td>N</td>\n",
       "    </tr>\n",
       "    <tr>\n",
       "      <th>3</th>\n",
       "      <td>606</td>\n",
       "      <td>37.3</td>\n",
       "      <td>15019</td>\n",
       "      <td>6383</td>\n",
       "      <td>0.306630</td>\n",
       "      <td>N</td>\n",
       "    </tr>\n",
       "    <tr>\n",
       "      <th>4</th>\n",
       "      <td>610</td>\n",
       "      <td>39.2</td>\n",
       "      <td>16707</td>\n",
       "      <td>7892</td>\n",
       "      <td>0.321893</td>\n",
       "      <td>N</td>\n",
       "    </tr>\n",
       "  </tbody>\n",
       "</table>\n",
       "</div>"
      ],
      "text/plain": [
       "   Zipcode  Median Age  Household Income  Per Capita Income  Employment rate  \\\n",
       "0      601        36.6             12041               7380         0.308835   \n",
       "1      602        38.6             15663               8463         0.381047   \n",
       "2      603        38.9             15485               9176         0.314867   \n",
       "3      606        37.3             15019               6383         0.306630   \n",
       "4      610        39.2             16707               7892         0.321893   \n",
       "\n",
       "  Has Starbucks  \n",
       "0             N  \n",
       "1             N  \n",
       "2             N  \n",
       "3             N  \n",
       "4             N  "
      ]
     },
     "execution_count": 2,
     "metadata": {},
     "output_type": "execute_result"
    }
   ],
   "source": [
    "#Read list of zipcodes with census data\n",
    "df = pd.read_csv(os.path.join(\".\", \"Resources\", \"SB_Census_Data_forml.csv\"))\n",
    "df.head()"
   ]
  },
  {
   "cell_type": "code",
   "execution_count": 3,
   "metadata": {},
   "outputs": [],
   "source": [
    "#Prepare target data\n",
    "target = df[\"Has Starbucks\"]\n",
    "target_names = [\"N\", \"Y\"]"
   ]
  },
  {
   "cell_type": "code",
   "execution_count": 4,
   "metadata": {},
   "outputs": [
    {
     "data": {
      "text/html": [
       "<div>\n",
       "<style scoped>\n",
       "    .dataframe tbody tr th:only-of-type {\n",
       "        vertical-align: middle;\n",
       "    }\n",
       "\n",
       "    .dataframe tbody tr th {\n",
       "        vertical-align: top;\n",
       "    }\n",
       "\n",
       "    .dataframe thead th {\n",
       "        text-align: right;\n",
       "    }\n",
       "</style>\n",
       "<table border=\"1\" class=\"dataframe\">\n",
       "  <thead>\n",
       "    <tr style=\"text-align: right;\">\n",
       "      <th></th>\n",
       "      <th>Median Age</th>\n",
       "      <th>Household Income</th>\n",
       "      <th>Per Capita Income</th>\n",
       "      <th>Employment rate</th>\n",
       "    </tr>\n",
       "  </thead>\n",
       "  <tbody>\n",
       "    <tr>\n",
       "      <th>0</th>\n",
       "      <td>36.6</td>\n",
       "      <td>12041</td>\n",
       "      <td>7380</td>\n",
       "      <td>0.308835</td>\n",
       "    </tr>\n",
       "    <tr>\n",
       "      <th>1</th>\n",
       "      <td>38.6</td>\n",
       "      <td>15663</td>\n",
       "      <td>8463</td>\n",
       "      <td>0.381047</td>\n",
       "    </tr>\n",
       "    <tr>\n",
       "      <th>2</th>\n",
       "      <td>38.9</td>\n",
       "      <td>15485</td>\n",
       "      <td>9176</td>\n",
       "      <td>0.314867</td>\n",
       "    </tr>\n",
       "    <tr>\n",
       "      <th>3</th>\n",
       "      <td>37.3</td>\n",
       "      <td>15019</td>\n",
       "      <td>6383</td>\n",
       "      <td>0.306630</td>\n",
       "    </tr>\n",
       "    <tr>\n",
       "      <th>4</th>\n",
       "      <td>39.2</td>\n",
       "      <td>16707</td>\n",
       "      <td>7892</td>\n",
       "      <td>0.321893</td>\n",
       "    </tr>\n",
       "  </tbody>\n",
       "</table>\n",
       "</div>"
      ],
      "text/plain": [
       "   Median Age  Household Income  Per Capita Income  Employment rate\n",
       "0        36.6             12041               7380         0.308835\n",
       "1        38.6             15663               8463         0.381047\n",
       "2        38.9             15485               9176         0.314867\n",
       "3        37.3             15019               6383         0.306630\n",
       "4        39.2             16707               7892         0.321893"
      ]
     },
     "execution_count": 4,
     "metadata": {},
     "output_type": "execute_result"
    }
   ],
   "source": [
    "#Prepare factor data\n",
    "data = df.drop([\"Has Starbucks\", \"Zipcode\"], axis=1)\n",
    "feature_names = data.columns\n",
    "data.head()"
   ]
  },
  {
   "cell_type": "code",
   "execution_count": 5,
   "metadata": {},
   "outputs": [],
   "source": [
    "#Split data\n",
    "from sklearn.model_selection import train_test_split\n",
    "X_train, X_test, y_train, y_test = train_test_split(data, target, random_state=42)"
   ]
  },
  {
   "cell_type": "code",
   "execution_count": 6,
   "metadata": {},
   "outputs": [
    {
     "data": {
      "text/plain": [
       "0.8448168063023633"
      ]
     },
     "execution_count": 6,
     "metadata": {},
     "output_type": "execute_result"
    }
   ],
   "source": [
    "# Import Random Forest Classifier model and run\n",
    "from sklearn.ensemble import RandomForestClassifier\n",
    "rf = RandomForestClassifier(n_estimators=200)\n",
    "rf = rf.fit(X_train, y_train)\n",
    "rf.score(X_test, y_test)"
   ]
  },
  {
   "cell_type": "code",
   "execution_count": 7,
   "metadata": {},
   "outputs": [
    {
     "data": {
      "text/plain": [
       "[(0.2849270966720877, 'Per Capita Income'),\n",
       " (0.2537648479757056, 'Median Age'),\n",
       " (0.23541959033557214, 'Employment rate'),\n",
       " (0.22588846501663457, 'Household Income')]"
      ]
     },
     "execution_count": 7,
     "metadata": {},
     "output_type": "execute_result"
    }
   ],
   "source": [
    "# See importance of each of the features\n",
    "sorted(zip(rf.feature_importances_, feature_names), reverse=True)"
   ]
  },
  {
   "cell_type": "code",
   "execution_count": 8,
   "metadata": {},
   "outputs": [],
   "source": [
    "# Save model for future use\n",
    "rfPickle = open('rfpickle_file', 'wb') \n",
    "\n",
    "pickle.dump(rf, rfPickle)\n",
    "\n",
    "\n",
    "# load the model from disk\n",
    "#loaded_model = pickle.load(open('rfpickle_file', 'rb'))\n",
    "#result = loaded_model.predict(X_test) "
   ]
  },
  {
   "cell_type": "code",
   "execution_count": 9,
   "metadata": {},
   "outputs": [
    {
     "name": "stdout",
     "output_type": "stream",
     "text": [
      "[[0.99  0.01 ]\n",
      " [0.995 0.005]\n",
      " [1.    0.   ]\n",
      " ...\n",
      " [0.49  0.51 ]\n",
      " [0.985 0.015]\n",
      " [0.98  0.02 ]]\n"
     ]
    }
   ],
   "source": [
    "# Split zip codes into with Starbucks and without\n",
    "# Remove zip codes and save in separate dataframe\n",
    "# Predict probability of zip codes where there is no Starbucks\n",
    "nodf=df.loc[df[\"Has Starbucks\"]==\"N\"]\n",
    "yesdf=df.loc[df['Has Starbucks']=='Y']\n",
    "zips = nodf[\"Zipcode\"]\n",
    "nodf = nodf.drop([\"Has Starbucks\", \"Zipcode\"], axis=1)\n",
    "ynew = rf.predict_proba(nodf)\n",
    "\n",
    "print(ynew)"
   ]
  },
  {
   "cell_type": "code",
   "execution_count": 10,
   "metadata": {},
   "outputs": [],
   "source": [
    "# Create dataframe with list of zipcodes with no Starbucks and reset index\n",
    "zips = pd.DataFrame(zips)\n",
    "zips = zips.reset_index(drop=True)\n"
   ]
  },
  {
   "cell_type": "code",
   "execution_count": 11,
   "metadata": {},
   "outputs": [],
   "source": [
    "# Create dataframe with prediction data\n",
    "output = pd.DataFrame(ynew)\n"
   ]
  },
  {
   "cell_type": "code",
   "execution_count": 12,
   "metadata": {},
   "outputs": [],
   "source": [
    "# Merge zip codes with prediction data\n",
    "df_out = pd.merge(output, zips, left_index=True, right_index=True)\n"
   ]
  },
  {
   "cell_type": "code",
   "execution_count": 13,
   "metadata": {},
   "outputs": [
    {
     "data": {
      "text/html": [
       "<div>\n",
       "<style scoped>\n",
       "    .dataframe tbody tr th:only-of-type {\n",
       "        vertical-align: middle;\n",
       "    }\n",
       "\n",
       "    .dataframe tbody tr th {\n",
       "        vertical-align: top;\n",
       "    }\n",
       "\n",
       "    .dataframe thead th {\n",
       "        text-align: right;\n",
       "    }\n",
       "</style>\n",
       "<table border=\"1\" class=\"dataframe\">\n",
       "  <thead>\n",
       "    <tr style=\"text-align: right;\">\n",
       "      <th></th>\n",
       "      <th>0</th>\n",
       "      <th>1</th>\n",
       "      <th>Zipcode</th>\n",
       "    </tr>\n",
       "  </thead>\n",
       "  <tbody>\n",
       "    <tr>\n",
       "      <th>465</th>\n",
       "      <td>0.105</td>\n",
       "      <td>0.895</td>\n",
       "      <td>2127</td>\n",
       "    </tr>\n",
       "    <tr>\n",
       "      <th>23814</th>\n",
       "      <td>0.115</td>\n",
       "      <td>0.885</td>\n",
       "      <td>82636</td>\n",
       "    </tr>\n",
       "    <tr>\n",
       "      <th>501</th>\n",
       "      <td>0.120</td>\n",
       "      <td>0.880</td>\n",
       "      <td>2210</td>\n",
       "    </tr>\n",
       "    <tr>\n",
       "      <th>647</th>\n",
       "      <td>0.125</td>\n",
       "      <td>0.875</td>\n",
       "      <td>2802</td>\n",
       "    </tr>\n",
       "    <tr>\n",
       "      <th>5782</th>\n",
       "      <td>0.125</td>\n",
       "      <td>0.875</td>\n",
       "      <td>21793</td>\n",
       "    </tr>\n",
       "  </tbody>\n",
       "</table>\n",
       "</div>"
      ],
      "text/plain": [
       "           0      1  Zipcode\n",
       "465    0.105  0.895     2127\n",
       "23814  0.115  0.885    82636\n",
       "501    0.120  0.880     2210\n",
       "647    0.125  0.875     2802\n",
       "5782   0.125  0.875    21793"
      ]
     },
     "execution_count": 13,
     "metadata": {},
     "output_type": "execute_result"
    }
   ],
   "source": [
    "# Sort zip codes by least probability of no Starbucks\n",
    "recommended = df_out.sort_values(by=[0])\n",
    "recommended.head()"
   ]
  },
  {
   "cell_type": "code",
   "execution_count": 14,
   "metadata": {},
   "outputs": [],
   "source": [
    "#Create a list with all zipcodes within 2 miles of zipcodes with a Starbucks.\n",
    "\n",
    "zcdb = ZipCodeDatabase()\n",
    "rec_l = []\n",
    "\n",
    "for zipcode in yesdf.Zipcode:\n",
    "    try:\n",
    "        rec_l.append([z.zip for z in zcdb.get_zipcodes_around_radius(zipcode, 2)])\n",
    "    except:\n",
    "        print(\"Error\")"
   ]
  },
  {
   "cell_type": "code",
   "execution_count": 15,
   "metadata": {},
   "outputs": [],
   "source": [
    "# Flatten list\n",
    "flat_list_str = [item for sublist in rec_l for item in sublist]"
   ]
  },
  {
   "cell_type": "code",
   "execution_count": 16,
   "metadata": {},
   "outputs": [],
   "source": [
    "# Add column indicating nearby store to recommendation dataframe\n",
    "recommended['Another_Store_Present'] = recommended.Zipcode.isin(flat_list_str).astype(int)"
   ]
  },
  {
   "cell_type": "code",
   "execution_count": 17,
   "metadata": {
    "scrolled": true
   },
   "outputs": [
    {
     "data": {
      "text/plain": [
       "0    25262\n",
       "1     1357\n",
       "Name: Another_Store_Present, dtype: int64"
      ]
     },
     "execution_count": 17,
     "metadata": {},
     "output_type": "execute_result"
    }
   ],
   "source": [
    "# Show how many zipcodes have nearby stores\n",
    "recommended['Another_Store_Present'].value_counts()"
   ]
  },
  {
   "cell_type": "code",
   "execution_count": 18,
   "metadata": {},
   "outputs": [
    {
     "data": {
      "text/html": [
       "<div>\n",
       "<style scoped>\n",
       "    .dataframe tbody tr th:only-of-type {\n",
       "        vertical-align: middle;\n",
       "    }\n",
       "\n",
       "    .dataframe tbody tr th {\n",
       "        vertical-align: top;\n",
       "    }\n",
       "\n",
       "    .dataframe thead th {\n",
       "        text-align: right;\n",
       "    }\n",
       "</style>\n",
       "<table border=\"1\" class=\"dataframe\">\n",
       "  <thead>\n",
       "    <tr style=\"text-align: right;\">\n",
       "      <th></th>\n",
       "      <th>0</th>\n",
       "      <th>1</th>\n",
       "      <th>Zipcode</th>\n",
       "      <th>Another_Store_Present</th>\n",
       "    </tr>\n",
       "  </thead>\n",
       "  <tbody>\n",
       "    <tr>\n",
       "      <th>465</th>\n",
       "      <td>0.105</td>\n",
       "      <td>0.895</td>\n",
       "      <td>2127</td>\n",
       "      <td>0</td>\n",
       "    </tr>\n",
       "    <tr>\n",
       "      <th>23814</th>\n",
       "      <td>0.115</td>\n",
       "      <td>0.885</td>\n",
       "      <td>82636</td>\n",
       "      <td>0</td>\n",
       "    </tr>\n",
       "    <tr>\n",
       "      <th>501</th>\n",
       "      <td>0.120</td>\n",
       "      <td>0.880</td>\n",
       "      <td>2210</td>\n",
       "      <td>0</td>\n",
       "    </tr>\n",
       "    <tr>\n",
       "      <th>647</th>\n",
       "      <td>0.125</td>\n",
       "      <td>0.875</td>\n",
       "      <td>2802</td>\n",
       "      <td>0</td>\n",
       "    </tr>\n",
       "    <tr>\n",
       "      <th>19972</th>\n",
       "      <td>0.135</td>\n",
       "      <td>0.865</td>\n",
       "      <td>68136</td>\n",
       "      <td>0</td>\n",
       "    </tr>\n",
       "  </tbody>\n",
       "</table>\n",
       "</div>"
      ],
      "text/plain": [
       "           0      1  Zipcode  Another_Store_Present\n",
       "465    0.105  0.895     2127                      0\n",
       "23814  0.115  0.885    82636                      0\n",
       "501    0.120  0.880     2210                      0\n",
       "647    0.125  0.875     2802                      0\n",
       "19972  0.135  0.865    68136                      0"
      ]
     },
     "execution_count": 18,
     "metadata": {},
     "output_type": "execute_result"
    }
   ],
   "source": [
    "# Show dataframe with all columns\n",
    "no_store_near_df = recommended.loc[recommended[\"Another_Store_Present\"]==0]\n",
    "no_store_near_df.head()"
   ]
  },
  {
   "cell_type": "code",
   "execution_count": 19,
   "metadata": {},
   "outputs": [],
   "source": [
    "# Export csv file with dataframe\n",
    "no_store_near_df.to_csv(os.path.join(\".\", \"Resources\", \"no_store_near_df.csv\"))"
   ]
  },
  {
   "cell_type": "code",
   "execution_count": 20,
   "metadata": {},
   "outputs": [
    {
     "data": {
      "text/html": [
       "<div>\n",
       "<style scoped>\n",
       "    .dataframe tbody tr th:only-of-type {\n",
       "        vertical-align: middle;\n",
       "    }\n",
       "\n",
       "    .dataframe tbody tr th {\n",
       "        vertical-align: top;\n",
       "    }\n",
       "\n",
       "    .dataframe thead th {\n",
       "        text-align: right;\n",
       "    }\n",
       "</style>\n",
       "<table border=\"1\" class=\"dataframe\">\n",
       "  <thead>\n",
       "    <tr style=\"text-align: right;\">\n",
       "      <th></th>\n",
       "      <th>Unnamed: 0</th>\n",
       "      <th>Unnamed: 0.1</th>\n",
       "      <th>Zipcode</th>\n",
       "      <th>Population</th>\n",
       "      <th>Median Age</th>\n",
       "      <th>Household Income</th>\n",
       "      <th>Per Capita Income</th>\n",
       "      <th>Poverty Count</th>\n",
       "      <th>Employment Labor Force</th>\n",
       "      <th>Poverty Rate</th>\n",
       "      <th>...</th>\n",
       "      <th>State/Province</th>\n",
       "      <th>Country</th>\n",
       "      <th>Postcode</th>\n",
       "      <th>Phone Number</th>\n",
       "      <th>Timezone</th>\n",
       "      <th>Longitude</th>\n",
       "      <th>Latitude</th>\n",
       "      <th>Employment_PCT</th>\n",
       "      <th>Recommended</th>\n",
       "      <th>Another_Store_Present</th>\n",
       "    </tr>\n",
       "  </thead>\n",
       "  <tbody>\n",
       "    <tr>\n",
       "      <th>0</th>\n",
       "      <td>0</td>\n",
       "      <td>0</td>\n",
       "      <td>8518</td>\n",
       "      <td>5217.0</td>\n",
       "      <td>41.5</td>\n",
       "      <td>74286.0</td>\n",
       "      <td>33963.0</td>\n",
       "      <td>170.0</td>\n",
       "      <td>3220.0</td>\n",
       "      <td>3.258578</td>\n",
       "      <td>...</td>\n",
       "      <td>NaN</td>\n",
       "      <td>NaN</td>\n",
       "      <td>NaN</td>\n",
       "      <td>NaN</td>\n",
       "      <td>NaN</td>\n",
       "      <td>NaN</td>\n",
       "      <td>NaN</td>\n",
       "      <td>61.721296</td>\n",
       "      <td>Y</td>\n",
       "      <td>0</td>\n",
       "    </tr>\n",
       "    <tr>\n",
       "      <th>1</th>\n",
       "      <td>1</td>\n",
       "      <td>1</td>\n",
       "      <td>8520</td>\n",
       "      <td>27468.0</td>\n",
       "      <td>37.4</td>\n",
       "      <td>90293.0</td>\n",
       "      <td>37175.0</td>\n",
       "      <td>1834.0</td>\n",
       "      <td>16187.0</td>\n",
       "      <td>6.676860</td>\n",
       "      <td>...</td>\n",
       "      <td>NaN</td>\n",
       "      <td>NaN</td>\n",
       "      <td>NaN</td>\n",
       "      <td>NaN</td>\n",
       "      <td>NaN</td>\n",
       "      <td>NaN</td>\n",
       "      <td>NaN</td>\n",
       "      <td>58.930392</td>\n",
       "      <td>Y</td>\n",
       "      <td>0</td>\n",
       "    </tr>\n",
       "    <tr>\n",
       "      <th>2</th>\n",
       "      <td>3</td>\n",
       "      <td>3</td>\n",
       "      <td>8527</td>\n",
       "      <td>54867.0</td>\n",
       "      <td>42.2</td>\n",
       "      <td>88588.0</td>\n",
       "      <td>37021.0</td>\n",
       "      <td>2191.0</td>\n",
       "      <td>29204.0</td>\n",
       "      <td>3.993293</td>\n",
       "      <td>...</td>\n",
       "      <td>NaN</td>\n",
       "      <td>NaN</td>\n",
       "      <td>NaN</td>\n",
       "      <td>NaN</td>\n",
       "      <td>NaN</td>\n",
       "      <td>NaN</td>\n",
       "      <td>NaN</td>\n",
       "      <td>53.226894</td>\n",
       "      <td>Y</td>\n",
       "      <td>0</td>\n",
       "    </tr>\n",
       "    <tr>\n",
       "      <th>3</th>\n",
       "      <td>4</td>\n",
       "      <td>4</td>\n",
       "      <td>8528</td>\n",
       "      <td>245.0</td>\n",
       "      <td>48.5</td>\n",
       "      <td>58676.0</td>\n",
       "      <td>49117.0</td>\n",
       "      <td>0.0</td>\n",
       "      <td>130.0</td>\n",
       "      <td>0.000000</td>\n",
       "      <td>...</td>\n",
       "      <td>NaN</td>\n",
       "      <td>NaN</td>\n",
       "      <td>NaN</td>\n",
       "      <td>NaN</td>\n",
       "      <td>NaN</td>\n",
       "      <td>NaN</td>\n",
       "      <td>NaN</td>\n",
       "      <td>53.061224</td>\n",
       "      <td>Y</td>\n",
       "      <td>0</td>\n",
       "    </tr>\n",
       "    <tr>\n",
       "      <th>4</th>\n",
       "      <td>5</td>\n",
       "      <td>5</td>\n",
       "      <td>8530</td>\n",
       "      <td>7568.0</td>\n",
       "      <td>43.8</td>\n",
       "      <td>87396.0</td>\n",
       "      <td>46371.0</td>\n",
       "      <td>249.0</td>\n",
       "      <td>4058.0</td>\n",
       "      <td>3.290169</td>\n",
       "      <td>...</td>\n",
       "      <td>NaN</td>\n",
       "      <td>NaN</td>\n",
       "      <td>NaN</td>\n",
       "      <td>NaN</td>\n",
       "      <td>NaN</td>\n",
       "      <td>NaN</td>\n",
       "      <td>NaN</td>\n",
       "      <td>53.620507</td>\n",
       "      <td>Y</td>\n",
       "      <td>0</td>\n",
       "    </tr>\n",
       "  </tbody>\n",
       "</table>\n",
       "<p>5 rows × 26 columns</p>\n",
       "</div>"
      ],
      "text/plain": [
       "   Unnamed: 0  Unnamed: 0.1  Zipcode  Population  Median Age  \\\n",
       "0           0             0     8518      5217.0        41.5   \n",
       "1           1             1     8520     27468.0        37.4   \n",
       "2           3             3     8527     54867.0        42.2   \n",
       "3           4             4     8528       245.0        48.5   \n",
       "4           5             5     8530      7568.0        43.8   \n",
       "\n",
       "   Household Income  Per Capita Income  Poverty Count  Employment Labor Force  \\\n",
       "0           74286.0            33963.0          170.0                  3220.0   \n",
       "1           90293.0            37175.0         1834.0                 16187.0   \n",
       "2           88588.0            37021.0         2191.0                 29204.0   \n",
       "3           58676.0            49117.0            0.0                   130.0   \n",
       "4           87396.0            46371.0          249.0                  4058.0   \n",
       "\n",
       "   Poverty Rate  ... State/Province Country Postcode Phone Number Timezone  \\\n",
       "0      3.258578  ...            NaN     NaN      NaN          NaN      NaN   \n",
       "1      6.676860  ...            NaN     NaN      NaN          NaN      NaN   \n",
       "2      3.993293  ...            NaN     NaN      NaN          NaN      NaN   \n",
       "3      0.000000  ...            NaN     NaN      NaN          NaN      NaN   \n",
       "4      3.290169  ...            NaN     NaN      NaN          NaN      NaN   \n",
       "\n",
       "  Longitude Latitude Employment_PCT  Recommended Another_Store_Present  \n",
       "0       NaN      NaN      61.721296            Y                     0  \n",
       "1       NaN      NaN      58.930392            Y                     0  \n",
       "2       NaN      NaN      53.226894            Y                     0  \n",
       "3       NaN      NaN      53.061224            Y                     0  \n",
       "4       NaN      NaN      53.620507            Y                     0  \n",
       "\n",
       "[5 rows x 26 columns]"
      ]
     },
     "execution_count": 20,
     "metadata": {},
     "output_type": "execute_result"
    }
   ],
   "source": [
    "# Import recommendations from first project\n",
    "project1_df = pd.read_csv(os.path.join(\".\", \"Resources\", \"Recommended_Zipcodes.csv\"))\n",
    "project1_df.head()"
   ]
  },
  {
   "cell_type": "code",
   "execution_count": 21,
   "metadata": {},
   "outputs": [],
   "source": [
    "# Filter results for above 50 percent probability\n",
    "above50pct=no_store_near_df.loc[no_store_near_df[0]<=0.5]"
   ]
  },
  {
   "cell_type": "code",
   "execution_count": 22,
   "metadata": {},
   "outputs": [
    {
     "data": {
      "text/plain": [
       "276"
      ]
     },
     "execution_count": 22,
     "metadata": {},
     "output_type": "execute_result"
    }
   ],
   "source": [
    "# Count how many zip codes were above 50 percent\n",
    "len(above50pct.index)"
   ]
  },
  {
   "cell_type": "code",
   "execution_count": 23,
   "metadata": {},
   "outputs": [
    {
     "data": {
      "text/plain": [
       "5183"
      ]
     },
     "execution_count": 23,
     "metadata": {},
     "output_type": "execute_result"
    }
   ],
   "source": [
    "above10pct=no_store_near_df.loc[no_store_near_df[0]<=0.9]\n",
    "len(above10pct.index)"
   ]
  },
  {
   "cell_type": "code",
   "execution_count": 24,
   "metadata": {},
   "outputs": [],
   "source": [
    "# Merge above 50 pct with first project recommendations\n",
    "common_zip_codes = pd.merge(above50pct, project1_df, how = 'inner', on = 'Zipcode')"
   ]
  },
  {
   "cell_type": "code",
   "execution_count": 25,
   "metadata": {},
   "outputs": [
    {
     "data": {
      "text/plain": [
       "149"
      ]
     },
     "execution_count": 25,
     "metadata": {},
     "output_type": "execute_result"
    }
   ],
   "source": [
    "# Eliminate duplicate zip codes and count common zip codes\n",
    "unique = common_zip_codes.groupby(['Zipcode']).all()\n",
    "len(unique.index)"
   ]
  },
  {
   "cell_type": "code",
   "execution_count": 26,
   "metadata": {},
   "outputs": [],
   "source": [
    "# Output unique common zip codes to csv file\n",
    "unique.to_csv(os.path.join(\".\", \"Resources\", \"unique.csv\"))"
   ]
  },
  {
   "cell_type": "code",
   "execution_count": 27,
   "metadata": {},
   "outputs": [
    {
     "data": {
      "text/html": [
       "<div>\n",
       "<style scoped>\n",
       "    .dataframe tbody tr th:only-of-type {\n",
       "        vertical-align: middle;\n",
       "    }\n",
       "\n",
       "    .dataframe tbody tr th {\n",
       "        vertical-align: top;\n",
       "    }\n",
       "\n",
       "    .dataframe thead th {\n",
       "        text-align: right;\n",
       "    }\n",
       "</style>\n",
       "<table border=\"1\" class=\"dataframe\">\n",
       "  <thead>\n",
       "    <tr style=\"text-align: right;\">\n",
       "      <th></th>\n",
       "      <th>Zipcode</th>\n",
       "      <th>Lat</th>\n",
       "      <th>Lng</th>\n",
       "    </tr>\n",
       "  </thead>\n",
       "  <tbody>\n",
       "    <tr>\n",
       "      <th>0</th>\n",
       "      <td>601</td>\n",
       "      <td>18.180555</td>\n",
       "      <td>-66.749961</td>\n",
       "    </tr>\n",
       "    <tr>\n",
       "      <th>1</th>\n",
       "      <td>602</td>\n",
       "      <td>18.361945</td>\n",
       "      <td>-67.175597</td>\n",
       "    </tr>\n",
       "    <tr>\n",
       "      <th>2</th>\n",
       "      <td>603</td>\n",
       "      <td>18.455183</td>\n",
       "      <td>-67.119887</td>\n",
       "    </tr>\n",
       "    <tr>\n",
       "      <th>3</th>\n",
       "      <td>606</td>\n",
       "      <td>18.158345</td>\n",
       "      <td>-66.932911</td>\n",
       "    </tr>\n",
       "    <tr>\n",
       "      <th>4</th>\n",
       "      <td>610</td>\n",
       "      <td>18.295366</td>\n",
       "      <td>-67.125135</td>\n",
       "    </tr>\n",
       "  </tbody>\n",
       "</table>\n",
       "</div>"
      ],
      "text/plain": [
       "   Zipcode        Lat        Lng\n",
       "0      601  18.180555 -66.749961\n",
       "1      602  18.361945 -67.175597\n",
       "2      603  18.455183 -67.119887\n",
       "3      606  18.158345 -66.932911\n",
       "4      610  18.295366 -67.125135"
      ]
     },
     "execution_count": 27,
     "metadata": {},
     "output_type": "execute_result"
    }
   ],
   "source": [
    "zip_ll_file = os.path.join('Resources' , 'Zip_Lat_Long.txt')\n",
    "zip_ll_df = pd.read_csv(zip_ll_file)\n",
    "zip_ll_df.head()"
   ]
  },
  {
   "cell_type": "code",
   "execution_count": 28,
   "metadata": {},
   "outputs": [],
   "source": [
    "rec_zip_df = pd.DataFrame(above50pct['Zipcode'].astype(int))\n",
    "rec_locations_ll = rec_zip_df.merge(zip_ll_df, how='inner', on=['Zipcode'])"
   ]
  },
  {
   "cell_type": "code",
   "execution_count": null,
   "metadata": {},
   "outputs": [],
   "source": [
    "#Plot Recommendations \n",
    "#Get lat, long of final recommendations\n",
    "rec_locations_ll_df = rec_locations_ll[[\"Lat\", \"Lng\"]].astype(float)\n",
    "\n",
    "#Plot the lat long on Google map\n",
    "fig = gmaps.figure()\n",
    "\n",
    "try:\n",
    "    starbucks_layer2 = gmaps.symbol_layer(rec_locations_ll_df, fill_color='red', stroke_color='red', scale=2)\n",
    "except :\n",
    "    print(\"Bad Lat Long\")\n",
    "    \n",
    "fig.add_layer(starbucks_layer2)\n",
    "fig"
   ]
  },
  {
   "cell_type": "code",
   "execution_count": 42,
   "metadata": {},
   "outputs": [],
   "source": [
    "above10pct_zip_df = pd.DataFrame(above10pct['Zipcode'].astype(int))\n",
    "above10pct_ll = above10pct_zip_df.merge(zip_ll_df, how='inner', on=['Zipcode'])"
   ]
  },
  {
   "cell_type": "code",
   "execution_count": null,
   "metadata": {},
   "outputs": [],
   "source": [
    "#Plot Recommendations \n",
    "#Get lat, long of final recommendations\n",
    "above10pct_ll_df = above10pct_ll[[\"Lat\", \"Lng\"]].astype(float)\n",
    "\n",
    "#Plot the lat long on Google map\n",
    "fig3 = gmaps.figure()\n",
    "\n",
    "try:\n",
    "    starbucks_layer4 = gmaps.symbol_layer(above10pct_ll_df, fill_color='red', stroke_color='red', scale=1)\n",
    "except :\n",
    "    print(\"Bad Lat Long\")\n",
    "    \n",
    "fig3.add_layer(starbucks_layer4)\n",
    "fig3"
   ]
  },
  {
   "cell_type": "code",
   "execution_count": 37,
   "metadata": {},
   "outputs": [],
   "source": [
    "project1_zip_df = pd.DataFrame(project1_df['Zipcode'].astype(int))\n",
    "project1_locations_ll = project1_zip_df.merge(zip_ll_df, how='inner', on=['Zipcode'])"
   ]
  },
  {
   "cell_type": "code",
   "execution_count": null,
   "metadata": {},
   "outputs": [],
   "source": [
    "#Plot Recommendations \n",
    "#Get lat, long of final recommendations\n",
    "project1_locations_ll_df = project1_locations_ll[[\"Lat\", \"Lng\"]].astype(float)\n",
    "\n",
    "#Plot the lat long on Google map\n",
    "fig2 = gmaps.figure()\n",
    "\n",
    "try:\n",
    "    starbucks_layer3 = gmaps.symbol_layer(project1_locations_ll_df, fill_color='blue', stroke_color='blue', scale=1)\n",
    "except :\n",
    "    print(\"Bad Lat Long\")\n",
    "    \n",
    "fig2.add_layer(starbucks_layer3)\n",
    "fig2"
   ]
  },
  {
   "cell_type": "code",
   "execution_count": null,
   "metadata": {},
   "outputs": [],
   "source": []
  },
  {
   "cell_type": "code",
   "execution_count": null,
   "metadata": {},
   "outputs": [],
   "source": []
  }
 ],
 "metadata": {
  "kernelspec": {
   "display_name": "Python 3",
   "language": "python",
   "name": "python3"
  },
  "language_info": {
   "codemirror_mode": {
    "name": "ipython",
    "version": 3
   },
   "file_extension": ".py",
   "mimetype": "text/x-python",
   "name": "python",
   "nbconvert_exporter": "python",
   "pygments_lexer": "ipython3",
   "version": "3.7.3"
  },
  "varInspector": {
   "cols": {
    "lenName": 16,
    "lenType": 16,
    "lenVar": 40
   },
   "kernels_config": {
    "python": {
     "delete_cmd_postfix": "",
     "delete_cmd_prefix": "del ",
     "library": "var_list.py",
     "varRefreshCmd": "print(var_dic_list())"
    },
    "r": {
     "delete_cmd_postfix": ") ",
     "delete_cmd_prefix": "rm(",
     "library": "var_list.r",
     "varRefreshCmd": "cat(var_dic_list()) "
    }
   },
   "types_to_exclude": [
    "module",
    "function",
    "builtin_function_or_method",
    "instance",
    "_Feature"
   ],
   "window_display": false
  }
 },
 "nbformat": 4,
 "nbformat_minor": 2
}
